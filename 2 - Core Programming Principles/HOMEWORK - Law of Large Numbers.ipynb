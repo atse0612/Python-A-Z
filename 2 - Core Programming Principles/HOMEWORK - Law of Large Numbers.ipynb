{
 "cells": [
  {
   "cell_type": "code",
   "execution_count": null,
   "metadata": {
    "collapsed": true
   },
   "outputs": [],
   "source": [
    "\"\"\"\n",
    "Test the Law of Large Numbers for N random nomally distributed numbers\n",
    "with mean = 0, stdev = 1;\n",
    "\n",
    "Create a Python script that will count how many of these numbers fall\n",
    "between -1 and 1 and divide by the total quantity of N\n",
    "\n",
    "You know that E(X) = 68.2%\n",
    "\n",
    "Check that Mean(Xn) -> E(X) as you rerun your script while increasing\n",
    "N\n",
    "\"\"\""
   ]
  },
  {
   "cell_type": "code",
   "execution_count": 4,
   "metadata": {
    "collapsed": true
   },
   "outputs": [],
   "source": [
    "#import random package\n",
    "import numpy as np\n",
    "from numpy.random import randn"
   ]
  },
  {
   "cell_type": "markdown",
   "metadata": {},
   "source": [
    "---"
   ]
  },
  {
   "cell_type": "code",
   "execution_count": 35,
   "metadata": {
    "collapsed": false
   },
   "outputs": [
    {
     "name": "stdout",
     "output_type": "stream",
     "text": [
      "68.27883\n"
     ]
    }
   ],
   "source": [
    "#When you define N with For Loop\n",
    "counter = 0\n",
    "n = 10000000\n",
    "for i in randn(n):\n",
    "    if i> -1 and i < 1:\n",
    "        counter = counter + 1\n",
    "print(counter/n*100)"
   ]
  },
  {
   "cell_type": "code",
   "execution_count": 24,
   "metadata": {
    "collapsed": false
   },
   "outputs": [
    {
     "name": "stdout",
     "output_type": "stream",
     "text": [
      "68.2 % and  588 times\n"
     ]
    }
   ],
   "source": [
    "#When you do not define N with While Loop\n",
    "counter = 0\n",
    "n = 0\n",
    "times = 0\n",
    "while n != 68.2:\n",
    "    counter = counter + 1\n",
    "    x = randn()\n",
    "    if x > -1 and x < 1:\n",
    "        times = times + 1\n",
    "    n = round((times/counter*100), 2)\n",
    "print(n, \"% and \",counter, \"times\")"
   ]
  },
  {
   "cell_type": "code",
   "execution_count": null,
   "metadata": {
    "collapsed": true
   },
   "outputs": [],
   "source": []
  }
 ],
 "metadata": {
  "kernelspec": {
   "display_name": "Python [conda root]",
   "language": "python",
   "name": "conda-root-py"
  },
  "language_info": {
   "codemirror_mode": {
    "name": "ipython",
    "version": 3
   },
   "file_extension": ".py",
   "mimetype": "text/x-python",
   "name": "python",
   "nbconvert_exporter": "python",
   "pygments_lexer": "ipython3",
   "version": "3.5.2"
  }
 },
 "nbformat": 4,
 "nbformat_minor": 1
}
