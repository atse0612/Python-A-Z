{
 "cells": [
  {
   "cell_type": "code",
   "execution_count": 2,
   "metadata": {
    "collapsed": true
   },
   "outputs": [],
   "source": [
    "#1 - Tipos de variáveis\n",
    "#As variáveis são usadas para armazenar informação segundo o seu respectivo tipo. "
   ]
  },
  {
   "cell_type": "code",
   "execution_count": 4,
   "metadata": {
    "collapsed": false
   },
   "outputs": [
    {
     "data": {
      "text/plain": [
       "int"
      ]
     },
     "execution_count": 4,
     "metadata": {},
     "output_type": "execute_result"
    }
   ],
   "source": [
    "#inteiro\n",
    "x = 10\n",
    "type(x)"
   ]
  },
  {
   "cell_type": "code",
   "execution_count": 5,
   "metadata": {
    "collapsed": false
   },
   "outputs": [
    {
     "data": {
      "text/plain": [
       "float"
      ]
     },
     "execution_count": 5,
     "metadata": {},
     "output_type": "execute_result"
    }
   ],
   "source": [
    "#real\n",
    "y = 3.5\n",
    "type(y)"
   ]
  },
  {
   "cell_type": "code",
   "execution_count": 6,
   "metadata": {
    "collapsed": false
   },
   "outputs": [
    {
     "data": {
      "text/plain": [
       "str"
      ]
     },
     "execution_count": 6,
     "metadata": {},
     "output_type": "execute_result"
    }
   ],
   "source": [
    "#string\n",
    "z = 'hello world'\n",
    "type(z)"
   ]
  },
  {
   "cell_type": "code",
   "execution_count": 8,
   "metadata": {
    "collapsed": false
   },
   "outputs": [
    {
     "data": {
      "text/plain": [
       "bool"
      ]
     },
     "execution_count": 8,
     "metadata": {},
     "output_type": "execute_result"
    }
   ],
   "source": [
    "#Booleana\n",
    "a = True\n",
    "type(a)"
   ]
  },
  {
   "cell_type": "code",
   "execution_count": 9,
   "metadata": {
    "collapsed": true
   },
   "outputs": [
    {
     "data": {
      "text/plain": [
       "'\\nPython, por ser uma linguagem de tipos dinâmicos, não precisa declarar o tipo da variável no momento em que criar ela.\\n\\nInteiro em C:\\nint x;\\n\\nInteiro em Python:\\nx = 4           Já é identificado o tipo da variável no momento em que você armazena o valor nela\\n'"
      ]
     },
     "execution_count": 9,
     "metadata": {},
     "output_type": "execute_result"
    }
   ],
   "source": [
    "'''\n",
    "Python, por ser uma linguagem de tipos dinâmicos, não precisa declarar o tipo da variável no momento em que criar ela.\n",
    "\n",
    "Inteiro em C:\n",
    "int x;\n",
    "\n",
    "Inteiro em Python:\n",
    "x = 4           Já é identificado o tipo da variável no momento em que você armazena o valor nela\n",
    "'''"
   ]
  },
  {
   "cell_type": "markdown",
   "metadata": {},
   "source": [
    "---"
   ]
  },
  {
   "cell_type": "code",
   "execution_count": 10,
   "metadata": {
    "collapsed": true
   },
   "outputs": [],
   "source": [
    "#2 - Variáveis e Operadores Booleanos"
   ]
  },
  {
   "cell_type": "code",
   "execution_count": 11,
   "metadata": {
    "collapsed": false
   },
   "outputs": [
    {
     "data": {
      "text/plain": [
       "True"
      ]
     },
     "execution_count": 11,
     "metadata": {},
     "output_type": "execute_result"
    }
   ],
   "source": [
    "4<5 #Se for verdadeiro, retorna True"
   ]
  },
  {
   "cell_type": "code",
   "execution_count": 12,
   "metadata": {
    "collapsed": false
   },
   "outputs": [
    {
     "data": {
      "text/plain": [
       "False"
      ]
     },
     "execution_count": 12,
     "metadata": {},
     "output_type": "execute_result"
    }
   ],
   "source": [
    "10>100 #Se for falso, retorna False"
   ]
  },
  {
   "cell_type": "code",
   "execution_count": 13,
   "metadata": {
    "collapsed": false
   },
   "outputs": [
    {
     "data": {
      "text/plain": [
       "False"
      ]
     },
     "execution_count": 13,
     "metadata": {},
     "output_type": "execute_result"
    }
   ],
   "source": [
    "4==5"
   ]
  },
  {
   "cell_type": "code",
   "execution_count": 14,
   "metadata": {
    "collapsed": true
   },
   "outputs": [],
   "source": [
    "#Operadores Lógicos\n",
    "\n",
    "# == IGUAL\n",
    "# != ou <> DIFERENTE\n",
    "# < MENOR QUE\n",
    "# > MAIOR QUE\n",
    "# <= MENOR E IGUAL QUE\n",
    "# >= MAIOR E IGUAL QUE\n",
    "# and E\n",
    "# or OU\n",
    "# not NÃO"
   ]
  },
  {
   "cell_type": "code",
   "execution_count": 15,
   "metadata": {
    "collapsed": false
   },
   "outputs": [
    {
     "name": "stdout",
     "output_type": "stream",
     "text": [
      "True\n"
     ]
    }
   ],
   "source": [
    "result = 4<5 #A variável armazena o resultado de um operador lógico\n",
    "print(result)"
   ]
  },
  {
   "cell_type": "code",
   "execution_count": 16,
   "metadata": {
    "collapsed": false
   },
   "outputs": [
    {
     "data": {
      "text/plain": [
       "bool"
      ]
     },
     "execution_count": 16,
     "metadata": {},
     "output_type": "execute_result"
    }
   ],
   "source": [
    "type(result)"
   ]
  },
  {
   "cell_type": "code",
   "execution_count": 17,
   "metadata": {
    "collapsed": false
   },
   "outputs": [
    {
     "name": "stdout",
     "output_type": "stream",
     "text": [
      "False\n"
     ]
    }
   ],
   "source": [
    "result2 = not(4<5) #Nega o valor de 4<5\n",
    "print(result2)"
   ]
  },
  {
   "cell_type": "code",
   "execution_count": 18,
   "metadata": {
    "collapsed": false
   },
   "outputs": [
    {
     "data": {
      "text/plain": [
       "bool"
      ]
     },
     "execution_count": 18,
     "metadata": {},
     "output_type": "execute_result"
    }
   ],
   "source": [
    "type(result2)"
   ]
  },
  {
   "cell_type": "code",
   "execution_count": 19,
   "metadata": {
    "collapsed": false
   },
   "outputs": [
    {
     "data": {
      "text/plain": [
       "True"
      ]
     },
     "execution_count": 19,
     "metadata": {},
     "output_type": "execute_result"
    }
   ],
   "source": [
    "result or result2 #No operador or, caso um dos valores for True, toda a sentença se torna verdadeira"
   ]
  },
  {
   "cell_type": "code",
   "execution_count": 20,
   "metadata": {
    "collapsed": false
   },
   "outputs": [
    {
     "data": {
      "text/plain": [
       "False"
      ]
     },
     "execution_count": 20,
     "metadata": {},
     "output_type": "execute_result"
    }
   ],
   "source": [
    "result and result2 #No operador and, os dois valores precisam ser True para toda a sentença se tornar verdadeira"
   ]
  },
  {
   "cell_type": "markdown",
   "metadata": {},
   "source": [
    "---"
   ]
  },
  {
   "cell_type": "code",
   "execution_count": 1,
   "metadata": {
    "collapsed": false
   },
   "outputs": [
    {
     "name": "stdout",
     "output_type": "stream",
     "text": [
      "0 - Hello World\n",
      "1 - Hello World\n",
      "2 - Hello World\n",
      "3 - Hello World\n",
      "4 - Hello World\n",
      "5 - Hello World\n",
      "6 - Hello World\n",
      "7 - Hello World\n",
      "8 - Hello World\n",
      "9 - Hello World\n",
      "10 - Hello World\n"
     ]
    }
   ],
   "source": [
    "#3 - Loops: While\n",
    "#O while é um tipo de loop que é executado enquanto uma condição dada for verdadeira\n",
    "counter = 0\n",
    "while counter <11: #enquanto counter for menor que 11, continua dentro do loop\n",
    "    print(str(counter) + ' - Hello World')\n",
    "    counter = counter + 1 #como a variável counter foi iniciada com 0, toda vez que passa pelo fim do loop, 1 é somado a ela, dessa forma até chegar no 11 e assim sair do loop."
   ]
  },
  {
   "cell_type": "markdown",
   "metadata": {
    "collapsed": true
   },
   "source": [
    "---"
   ]
  },
  {
   "cell_type": "code",
   "execution_count": 4,
   "metadata": {
    "collapsed": false
   },
   "outputs": [
    {
     "name": "stdout",
     "output_type": "stream",
     "text": [
      "0 - Hello World\n",
      "1 - Hello World\n",
      "2 - Hello World\n",
      "3 - Hello World\n",
      "4 - Hello World\n",
      "5 - Hello World\n",
      "6 - Hello World\n",
      "7 - Hello World\n",
      "8 - Hello World\n",
      "9 - Hello World\n",
      "10 - Hello World\n"
     ]
    }
   ],
   "source": [
    "#4 - Loops: For\n",
    "#O for é um tipo de loop que não é necessário criar uma condição dentro do loop para dar fim na repetição. \n",
    "for i in range(11): #A variável i serve para fazer a contagem de cada iteração do loop.\n",
    "    print(str(i) + ' - Hello World')"
   ]
  },
  {
   "cell_type": "markdown",
   "metadata": {},
   "source": [
    "---"
   ]
  },
  {
   "cell_type": "code",
   "execution_count": 9,
   "metadata": {
    "collapsed": false
   },
   "outputs": [
    {
     "data": {
      "text/plain": [
       "0.2888400253312655"
      ]
     },
     "execution_count": 9,
     "metadata": {},
     "output_type": "execute_result"
    }
   ],
   "source": [
    "#5 - Condicionais\n",
    "import numpy as np #importa o pacote de computação científica Numpy\n",
    "from numpy.random import randn\n",
    "randn() #Cria números aleatórios"
   ]
  },
  {
   "cell_type": "code",
   "execution_count": 91,
   "metadata": {
    "collapsed": false
   },
   "outputs": [
    {
     "name": "stdout",
     "output_type": "stream",
     "text": [
      "0.1825328764791467 is lower than 1\n"
     ]
    }
   ],
   "source": [
    "x = randn() \n",
    "if x > 1: #Se x for maior que 1, executa o que está dentro do if\n",
    "    print(str(x)+' is greater than 1')\n",
    "else: #Caso a condição acima seja falsa, executa o else.\n",
    "    print(str(x)+' is lower than 1')"
   ]
  },
  {
   "cell_type": "code",
   "execution_count": 120,
   "metadata": {
    "collapsed": false
   },
   "outputs": [
    {
     "name": "stdout",
     "output_type": "stream",
     "text": [
      "1.1119426271075892 is greater than 1\n"
     ]
    }
   ],
   "source": [
    "#5.1 - If \"Aninhado\"\n",
    "x = randn()\n",
    "if x > 1:\n",
    "    print(str(x)+' is greater than 1')\n",
    "else:\n",
    "    if x < 1:\n",
    "        print(str(x)+' is lower than 1')\n",
    "    else:\n",
    "        print(str(x)+' is between -1 and 1')"
   ]
  },
  {
   "cell_type": "code",
   "execution_count": 122,
   "metadata": {
    "collapsed": false
   },
   "outputs": [
    {
     "name": "stdout",
     "output_type": "stream",
     "text": [
      "0.06730442723112327 is lower than 1\n"
     ]
    }
   ],
   "source": [
    "#5.2 - If \"Encadeado\"\n",
    "x = randn()\n",
    "if x > 1:\n",
    "    print(str(x)+' is greater than 1')\n",
    "elif x < 1:                         #elif = else + if\n",
    "    print(str(x)+' is lower than 1')\n",
    "else:\n",
    "    print(str(x)+' is between -1 and 1')"
   ]
  }
 ],
 "metadata": {
  "anaconda-cloud": {},
  "kernelspec": {
   "display_name": "Python [conda root]",
   "language": "python",
   "name": "conda-root-py"
  },
  "language_info": {
   "codemirror_mode": {
    "name": "ipython",
    "version": 3
   },
   "file_extension": ".py",
   "mimetype": "text/x-python",
   "name": "python",
   "nbconvert_exporter": "python",
   "pygments_lexer": "ipython3",
   "version": "3.5.2"
  }
 },
 "nbformat": 4,
 "nbformat_minor": 1
}
