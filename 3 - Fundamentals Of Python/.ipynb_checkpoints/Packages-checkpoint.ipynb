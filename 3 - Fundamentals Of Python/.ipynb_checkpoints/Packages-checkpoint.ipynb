{
 "cells": [
  {
   "cell_type": "code",
   "execution_count": null,
   "metadata": {
    "collapsed": false
   },
   "outputs": [],
   "source": [
    "'''\n",
    "A module is simply a file containing Python definitions, functions \n",
    "and statements. Putting code into modules is useful because of the \n",
    "ability to import the module functionality into your script or IPython\n",
    "session.\n",
    "\n",
    "A package is just a way of collecting relates modules together within\n",
    "a single tree-like hierarchy. Very complex packages like NumPy or\n",
    "ScyPy have hundreds of individual modules so putting them into a\n",
    "directory-like structure keeps things organized and avoids name\n",
    "collisions.\n",
    "'''"
   ]
  },
  {
   "cell_type": "code",
   "execution_count": 1,
   "metadata": {
    "collapsed": true
   },
   "outputs": [],
   "source": [
    "#---- The steps\n",
    "# 1 - Find package(optional)\n",
    "# 2 - Install the package\n",
    "# 3 - Import package or import function\n",
    "\n",
    "#---- 1 - Find the package: THE BEST PLACE TO FIND PACKAGES IS ON GITHUB\n",
    "#---- 2 - Install the package(WINDOWS): Anaconda Prompt > \"conda install packagename\" or \"pip install packagename\"\n",
    "#---- 3 - Import(WINDOWS): \n",
    "#          For example: import PACKAGENAME or from PACKAGENAME.MODULE import CLASS\n"
   ]
  },
  {
   "cell_type": "code",
   "execution_count": 2,
   "metadata": {
    "collapsed": true
   },
   "outputs": [],
   "source": [
    "import scrapy #importing a package"
   ]
  },
  {
   "cell_type": "code",
   "execution_count": 3,
   "metadata": {
    "collapsed": true
   },
   "outputs": [],
   "source": [
    "from scrapy.crawler import CrawlerProcess #importing a class from a module"
   ]
  },
  {
   "cell_type": "code",
   "execution_count": 4,
   "metadata": {
    "collapsed": true
   },
   "outputs": [],
   "source": [
    "import numpy"
   ]
  },
  {
   "cell_type": "code",
   "execution_count": null,
   "metadata": {
    "collapsed": true
   },
   "outputs": [],
   "source": []
  }
 ],
 "metadata": {
  "kernelspec": {
   "display_name": "Python [conda root]",
   "language": "python",
   "name": "conda-root-py"
  },
  "language_info": {
   "codemirror_mode": {
    "name": "ipython",
    "version": 3
   },
   "file_extension": ".py",
   "mimetype": "text/x-python",
   "name": "python",
   "nbconvert_exporter": "python",
   "pygments_lexer": "ipython3",
   "version": "3.5.2"
  }
 },
 "nbformat": 4,
 "nbformat_minor": 1
}
